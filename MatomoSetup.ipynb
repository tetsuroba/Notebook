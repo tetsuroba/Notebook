{
 "cells": [
  {
   "cell_type": "markdown",
   "metadata": {},
   "source": [
    "# Installing Matomo\n",
    "## Please fill out the required variable values"
   ]
  },
  {
   "cell_type": "markdown",
   "metadata": {},
   "source": [
    "## Connecting to SSH"
   ]
  },
  {
   "cell_type": "code",
   "execution_count": null,
   "metadata": {},
   "outputs": [],
   "source": [
    "sshaddress = '' #Enter SSH address here"
   ]
  },
  {
   "cell_type": "code",
   "execution_count": 22,
   "metadata": {},
   "outputs": [
    {
     "name": "stdout",
     "output_type": "stream",
     "text": [
      "option requires an argument -- c\r",
      "\r\n",
      "usage: ssh [-1246AaCfGgKkMNnqsTtVvXxYy] [-b bind_address] [-c cipher_spec]\r\n",
      "           [-D [bind_address:]port] [-E log_file] [-e escape_char]\r\n",
      "           [-F configfile] [-I pkcs11] [-i identity_file]\r\n",
      "           [-J [user@]host[:port]] [-L address] [-l login_name] [-m mac_spec]\r\n",
      "           [-O ctl_cmd] [-o option] [-p port] [-Q query_option] [-R address]\r\n",
      "           [-S ctl_path] [-W host:port] [-w local_tun[:remote_tun]]\r\n",
      "           [user@]hostname [command]\r\n"
     ]
    }
   ],
   "source": [
    "!ssh sshaddress"
   ]
  },
  {
   "cell_type": "markdown",
   "metadata": {},
   "source": [
    "## Creating the database"
   ]
  },
  {
   "cell_type": "code",
   "execution_count": 20,
   "metadata": {},
   "outputs": [],
   "source": [
    "databasename = '' #Enter database name here"
   ]
  },
  {
   "cell_type": "code",
   "execution_count": 21,
   "metadata": {
    "collapsed": true
   },
   "outputs": [
    {
     "ename": "SyntaxError",
     "evalue": "invalid syntax (<ipython-input-21-11bd6a1e94ca>, line 3)",
     "output_type": "error",
     "traceback": [
      "\u001b[0;36m  File \u001b[0;32m\"<ipython-input-21-11bd6a1e94ca>\"\u001b[0;36m, line \u001b[0;32m3\u001b[0m\n\u001b[0;31m    create database databasename;\u001b[0m\n\u001b[0m           ^\u001b[0m\n\u001b[0;31mSyntaxError\u001b[0m\u001b[0;31m:\u001b[0m invalid syntax\n"
     ]
    }
   ],
   "source": [
    "!mysql\n",
    "\n",
    "!create database databasename\n",
    "\n",
    "!exit"
   ]
  },
  {
   "cell_type": "markdown",
   "metadata": {},
   "source": [
    "## Installing Matomo into a subdirectory"
   ]
  },
  {
   "cell_type": "code",
   "execution_count": null,
   "metadata": {},
   "outputs": [],
   "source": [
    "subdirectory = '' #Enter subdirectory name here"
   ]
  },
  {
   "cell_type": "code",
   "execution_count": null,
   "metadata": {},
   "outputs": [],
   "source": [
    "!git clone https://github.com/matomo-org/matomo subdirectory #Clone Matomo repo into subdirectory\n",
    "    \n",
    "!cd subdirectory\n",
    "\n",
    "!composer update #Installs required plugins for Matomo\n",
    "\n",
    "!cd .."
   ]
  },
  {
   "cell_type": "markdown",
   "metadata": {},
   "source": [
    "## Manual steps\n",
    "1.Head to the website `URL/subdirectory` for the installation to begin (the subdirectory had to be given above) then press `Next`. \\n\n",
    "2.There will be a `system check` next, everything should be fine there except there will be `one warning` but that is because it is installed with `Git`. Next\\n\n",
    "3.Fill the `database information` accordingly, the database name had to be given above. (`default` login is `root` and `password is empty` ), after this matomo creates the required tables in the database.\\n\n",
    "4.Create a `Matomo Superuser` , this will be the login to the `site panel`.\\n\n",
    "5.Add the website `URL`, `Name` , `Timezone` and whether the site is and `ecommerce` or not. (Later on it is possible to add multiple sites inside the panel)\\n\n",
    "6.Copy the `JavaScript code` between the `head tags` of header.php file located in `site/theme/snippets/header.php`. \\n\n",
    "7.After that you can `log into` the admin panel of matomo using the `super user login`.\\n\n"
   ]
  }
 ],
 "metadata": {
  "kernelspec": {
   "display_name": "Python 3",
   "language": "python",
   "name": "python3"
  },
  "language_info": {
   "codemirror_mode": {
    "name": "ipython",
    "version": 3
   },
   "file_extension": ".py",
   "mimetype": "text/x-python",
   "name": "python",
   "nbconvert_exporter": "python",
   "pygments_lexer": "ipython3",
   "version": "3.8.3"
  }
 },
 "nbformat": 4,
 "nbformat_minor": 4
}
